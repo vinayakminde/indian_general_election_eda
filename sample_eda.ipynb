{
 "cells": [
  {
   "cell_type": "code",
   "execution_count": 8,
   "id": "0d037f33-b326-4ec2-bb76-6f276eb40516",
   "metadata": {
    "scrolled": true
   },
   "outputs": [
    {
     "ename": "NameError",
     "evalue": "name 'HTML' is not defined",
     "output_type": "error",
     "traceback": [
      "\u001b[1;31m---------------------------------------------------------------------------\u001b[0m",
      "\u001b[1;31mNameError\u001b[0m                                 Traceback (most recent call last)",
      "Cell \u001b[1;32mIn[8], line 43\u001b[0m\n\u001b[0;32m     40\u001b[0m pd\u001b[38;5;241m.\u001b[39mset_option(\u001b[38;5;124m'\u001b[39m\u001b[38;5;124mdisplay.expand_frame_repr\u001b[39m\u001b[38;5;124m'\u001b[39m, \u001b[38;5;28;01mFalse\u001b[39;00m)  \u001b[38;5;66;03m# Disable wrapping to new lines\u001b[39;00m\n\u001b[0;32m     42\u001b[0m \u001b[38;5;66;03m# Display the DataFrame with horizontal scroll\u001b[39;00m\n\u001b[1;32m---> 43\u001b[0m display(\u001b[43mHTML\u001b[49m(result_df\u001b[38;5;241m.\u001b[39mto_html(escape\u001b[38;5;241m=\u001b[39m\u001b[38;5;28;01mFalse\u001b[39;00m)))\n",
      "\u001b[1;31mNameError\u001b[0m: name 'HTML' is not defined"
     ]
    }
   ],
   "source": [
    "import pandas as pd\n",
    "import sqlite3\n",
    "from IPython.display import display, HTML\n",
    "\n",
    "# Path to your SQLite database file\n",
    "db_path = r'C:\\Vinayak\\sqlite-LS-election-data\\loksabha_elections.db'\n",
    "\n",
    "# List of table names to fetch schema details for\n",
    "# table_names = ['LS_2024_All_Data', 'LS_2019_All_Data', 'LS_2014_All_Data', 'LS_2024_Voter_Turnout']\n",
    "table_names = ['LS_2024_All_Data', 'LS_2019_All_Data', 'LS_2014_All_Data']\n",
    "\n",
    "# Connect to the SQLite database\n",
    "conn = sqlite3.connect(db_path)\n",
    "cursor = conn.cursor()\n",
    "\n",
    "# Function to fetch top 5 entries for a table\n",
    "def get_top_entries(table_name):\n",
    "    query = f\"SELECT * FROM {table_name} LIMIT 5\"\n",
    "    cursor.execute(query)\n",
    "    rows = cursor.fetchall()\n",
    "    column_names = [description[0] for description in cursor.description]\n",
    "    return pd.DataFrame(rows, columns=column_names)\n",
    "\n",
    "# Create a list to hold DataFrames\n",
    "dataframes = []\n",
    "\n",
    "# Fetch and store top 5 entries for each table\n",
    "for table in table_names:\n",
    "    df = get_top_entries(table)\n",
    "    df.insert(0, 'Table Name', table)  # Add a column for the table name\n",
    "    dataframes.append(df)\n",
    "\n",
    "# Close the connection\n",
    "conn.close()\n",
    "\n",
    "# Concatenate all DataFrames into a single DataFrame\n",
    "result_df = pd.concat(dataframes, ignore_index=True)\n",
    "\n",
    "# Set display options for better readability\n",
    "pd.set_option('display.max_columns', None)  # Show all columns\n",
    "pd.set_option('display.expand_frame_repr', False)  # Disable wrapping to new lines\n",
    "\n",
    "# Display the DataFrame with horizontal scroll\n",
    "display(HTML(result_df.to_html(escape=False)))"
   ]
  },
  {
   "cell_type": "code",
   "execution_count": null,
   "id": "4a46597d-5313-46ec-9caa-4d50e1f14ec4",
   "metadata": {},
   "outputs": [],
   "source": []
  }
 ],
 "metadata": {
  "kernelspec": {
   "display_name": "Python 3 (ipykernel)",
   "language": "python",
   "name": "python3"
  },
  "language_info": {
   "codemirror_mode": {
    "name": "ipython",
    "version": 3
   },
   "file_extension": ".py",
   "mimetype": "text/x-python",
   "name": "python",
   "nbconvert_exporter": "python",
   "pygments_lexer": "ipython3",
   "version": "3.12.4"
  }
 },
 "nbformat": 4,
 "nbformat_minor": 5
}
